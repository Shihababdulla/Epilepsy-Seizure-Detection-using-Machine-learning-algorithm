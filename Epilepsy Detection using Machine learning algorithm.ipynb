{
 "cells": [
  {
   "cell_type": "code",
   "execution_count": 1,
   "id": "238a1a81",
   "metadata": {},
   "outputs": [],
   "source": [
    "#Importing Packages\n",
    "\n",
    "import numpy as np # working with arrays\n",
    "import pandas as pd #data processing\n",
    "import sklearn # modeling and data preprocessing\n",
    "import matplotlib.pyplot as plt # visualiztion\n",
    "import seaborn as sn"
   ]
  },
  {
   "cell_type": "code",
   "execution_count": 11,
   "id": "1540c78e",
   "metadata": {},
   "outputs": [
    {
     "data": {
      "text/html": [
       "<div>\n",
       "<style scoped>\n",
       "    .dataframe tbody tr th:only-of-type {\n",
       "        vertical-align: middle;\n",
       "    }\n",
       "\n",
       "    .dataframe tbody tr th {\n",
       "        vertical-align: top;\n",
       "    }\n",
       "\n",
       "    .dataframe thead th {\n",
       "        text-align: right;\n",
       "    }\n",
       "</style>\n",
       "<table border=\"1\" class=\"dataframe\">\n",
       "  <thead>\n",
       "    <tr style=\"text-align: right;\">\n",
       "      <th></th>\n",
       "      <th>Unnamed: 0</th>\n",
       "      <th>X1</th>\n",
       "      <th>X2</th>\n",
       "      <th>X3</th>\n",
       "      <th>X4</th>\n",
       "      <th>X5</th>\n",
       "      <th>X6</th>\n",
       "      <th>X7</th>\n",
       "      <th>X8</th>\n",
       "      <th>X9</th>\n",
       "      <th>...</th>\n",
       "      <th>X170</th>\n",
       "      <th>X171</th>\n",
       "      <th>X172</th>\n",
       "      <th>X173</th>\n",
       "      <th>X174</th>\n",
       "      <th>X175</th>\n",
       "      <th>X176</th>\n",
       "      <th>X177</th>\n",
       "      <th>X178</th>\n",
       "      <th>y</th>\n",
       "    </tr>\n",
       "  </thead>\n",
       "  <tbody>\n",
       "    <tr>\n",
       "      <th>0</th>\n",
       "      <td>X21.V1.791</td>\n",
       "      <td>135</td>\n",
       "      <td>190</td>\n",
       "      <td>229</td>\n",
       "      <td>223</td>\n",
       "      <td>192</td>\n",
       "      <td>125</td>\n",
       "      <td>55</td>\n",
       "      <td>-9</td>\n",
       "      <td>-33</td>\n",
       "      <td>...</td>\n",
       "      <td>-17</td>\n",
       "      <td>-15</td>\n",
       "      <td>-31</td>\n",
       "      <td>-77</td>\n",
       "      <td>-103</td>\n",
       "      <td>-127</td>\n",
       "      <td>-116</td>\n",
       "      <td>-83</td>\n",
       "      <td>-51</td>\n",
       "      <td>4</td>\n",
       "    </tr>\n",
       "    <tr>\n",
       "      <th>1</th>\n",
       "      <td>X15.V1.924</td>\n",
       "      <td>386</td>\n",
       "      <td>382</td>\n",
       "      <td>356</td>\n",
       "      <td>331</td>\n",
       "      <td>320</td>\n",
       "      <td>315</td>\n",
       "      <td>307</td>\n",
       "      <td>272</td>\n",
       "      <td>244</td>\n",
       "      <td>...</td>\n",
       "      <td>164</td>\n",
       "      <td>150</td>\n",
       "      <td>146</td>\n",
       "      <td>152</td>\n",
       "      <td>157</td>\n",
       "      <td>156</td>\n",
       "      <td>154</td>\n",
       "      <td>143</td>\n",
       "      <td>129</td>\n",
       "      <td>1</td>\n",
       "    </tr>\n",
       "    <tr>\n",
       "      <th>2</th>\n",
       "      <td>X8.V1.1</td>\n",
       "      <td>-32</td>\n",
       "      <td>-39</td>\n",
       "      <td>-47</td>\n",
       "      <td>-37</td>\n",
       "      <td>-32</td>\n",
       "      <td>-36</td>\n",
       "      <td>-57</td>\n",
       "      <td>-73</td>\n",
       "      <td>-85</td>\n",
       "      <td>...</td>\n",
       "      <td>57</td>\n",
       "      <td>64</td>\n",
       "      <td>48</td>\n",
       "      <td>19</td>\n",
       "      <td>-12</td>\n",
       "      <td>-30</td>\n",
       "      <td>-35</td>\n",
       "      <td>-35</td>\n",
       "      <td>-36</td>\n",
       "      <td>5</td>\n",
       "    </tr>\n",
       "    <tr>\n",
       "      <th>3</th>\n",
       "      <td>X16.V1.60</td>\n",
       "      <td>-105</td>\n",
       "      <td>-101</td>\n",
       "      <td>-96</td>\n",
       "      <td>-92</td>\n",
       "      <td>-89</td>\n",
       "      <td>-95</td>\n",
       "      <td>-102</td>\n",
       "      <td>-100</td>\n",
       "      <td>-87</td>\n",
       "      <td>...</td>\n",
       "      <td>-82</td>\n",
       "      <td>-81</td>\n",
       "      <td>-80</td>\n",
       "      <td>-77</td>\n",
       "      <td>-85</td>\n",
       "      <td>-77</td>\n",
       "      <td>-72</td>\n",
       "      <td>-69</td>\n",
       "      <td>-65</td>\n",
       "      <td>5</td>\n",
       "    </tr>\n",
       "    <tr>\n",
       "      <th>4</th>\n",
       "      <td>X20.V1.54</td>\n",
       "      <td>-9</td>\n",
       "      <td>-65</td>\n",
       "      <td>-98</td>\n",
       "      <td>-102</td>\n",
       "      <td>-78</td>\n",
       "      <td>-48</td>\n",
       "      <td>-16</td>\n",
       "      <td>0</td>\n",
       "      <td>-21</td>\n",
       "      <td>...</td>\n",
       "      <td>4</td>\n",
       "      <td>2</td>\n",
       "      <td>-12</td>\n",
       "      <td>-32</td>\n",
       "      <td>-41</td>\n",
       "      <td>-65</td>\n",
       "      <td>-83</td>\n",
       "      <td>-89</td>\n",
       "      <td>-73</td>\n",
       "      <td>5</td>\n",
       "    </tr>\n",
       "  </tbody>\n",
       "</table>\n",
       "<p>5 rows × 180 columns</p>\n",
       "</div>"
      ],
      "text/plain": [
       "   Unnamed: 0   X1   X2   X3   X4   X5   X6   X7   X8   X9  ...  X170  X171  \\\n",
       "0  X21.V1.791  135  190  229  223  192  125   55   -9  -33  ...   -17   -15   \n",
       "1  X15.V1.924  386  382  356  331  320  315  307  272  244  ...   164   150   \n",
       "2     X8.V1.1  -32  -39  -47  -37  -32  -36  -57  -73  -85  ...    57    64   \n",
       "3   X16.V1.60 -105 -101  -96  -92  -89  -95 -102 -100  -87  ...   -82   -81   \n",
       "4   X20.V1.54   -9  -65  -98 -102  -78  -48  -16    0  -21  ...     4     2   \n",
       "\n",
       "   X172  X173  X174  X175  X176  X177  X178  y  \n",
       "0   -31   -77  -103  -127  -116   -83   -51  4  \n",
       "1   146   152   157   156   154   143   129  1  \n",
       "2    48    19   -12   -30   -35   -35   -36  5  \n",
       "3   -80   -77   -85   -77   -72   -69   -65  5  \n",
       "4   -12   -32   -41   -65   -83   -89   -73  5  \n",
       "\n",
       "[5 rows x 180 columns]"
      ]
     },
     "execution_count": 11,
     "metadata": {},
     "output_type": "execute_result"
    }
   ],
   "source": [
    "data=pd.read_csv('data.csv')\n",
    "data.head()\n"
   ]
  },
  {
   "cell_type": "code",
   "execution_count": 3,
   "id": "ae4f4f4e",
   "metadata": {},
   "outputs": [
    {
     "data": {
      "text/plain": [
       "(11500, 180)"
      ]
     },
     "execution_count": 3,
     "metadata": {},
     "output_type": "execute_result"
    }
   ],
   "source": [
    "data.shape"
   ]
  },
  {
   "cell_type": "code",
   "execution_count": 4,
   "id": "1b52594d",
   "metadata": {},
   "outputs": [
    {
     "name": "stdout",
     "output_type": "stream",
     "text": [
      "Total samples are: 11500\n",
      "The number of trial for the non seizure class is: 9200\n",
      "The number of trial for the seizure class is: 2300\n",
      "The percantage of the seizure class is:20.0%\n"
     ]
    },
    {
     "name": "stderr",
     "output_type": "stream",
     "text": [
      "C:\\Users\\Shihab\\AppData\\Local\\Temp/ipykernel_1388/549305994.py:3: SettingWithCopyWarning: \n",
      "A value is trying to be set on a copy of a slice from a DataFrame\n",
      "\n",
      "See the caveats in the documentation: https://pandas.pydata.org/pandas-docs/stable/user_guide/indexing.html#returning-a-view-versus-a-copy\n",
      "  Target[Target>1]=0\n"
     ]
    }
   ],
   "source": [
    "Samples=len(data.y)\n",
    "Target=data.y\n",
    "Target[Target>1]=0\n",
    "Seizure=Target.value_counts() \n",
    "Seizure_percentage=(Seizure[1]/len(Target))*100\n",
    "\n",
    "print('Total samples are:',Samples)\n",
    "print('The number of trial for the non seizure class is:',Seizure[0])\n",
    "print('The number of trial for the seizure class is:',Seizure[1])\n",
    "print('The percantage of the seizure class is:{}%'.format(Seizure_percentage))\n"
   ]
  },
  {
   "cell_type": "code",
   "execution_count": 5,
   "id": "074760a5",
   "metadata": {},
   "outputs": [
    {
     "data": {
      "text/plain": [
       "0    9200\n",
       "1    2300\n",
       "Name: y, dtype: int64"
      ]
     },
     "execution_count": 5,
     "metadata": {},
     "output_type": "execute_result"
    }
   ],
   "source": [
    "Seizure"
   ]
  },
  {
   "cell_type": "code",
   "execution_count": 6,
   "id": "98ca6ff6",
   "metadata": {},
   "outputs": [
    {
     "name": "stdout",
     "output_type": "stream",
     "text": [
      "Details of output variable:\n"
     ]
    },
    {
     "data": {
      "text/plain": [
       "count    11500.000000\n",
       "mean         0.200000\n",
       "std          0.400017\n",
       "min          0.000000\n",
       "25%          0.000000\n",
       "50%          0.000000\n",
       "75%          0.000000\n",
       "max          1.000000\n",
       "Name: y, dtype: float64"
      ]
     },
     "execution_count": 6,
     "metadata": {},
     "output_type": "execute_result"
    }
   ],
   "source": [
    "print('Details of output variable:')\n",
    "data.y.describe()"
   ]
  },
  {
   "cell_type": "code",
   "execution_count": 7,
   "id": "fc34d13e",
   "metadata": {},
   "outputs": [
    {
     "name": "stdout",
     "output_type": "stream",
     "text": [
      "The shape of feature variable: (11500, 178)\n",
      "The shape of output variable: (11500,)\n"
     ]
    }
   ],
   "source": [
    "x = data.iloc[:, 1:-1].values\n",
    "y=data.iloc[:,-1].values\n",
    "print('The shape of feature variable:',x.shape)\n",
    "print('The shape of output variable:',y.shape)"
   ]
  },
  {
   "cell_type": "code",
   "execution_count": 8,
   "id": "afc6e206",
   "metadata": {},
   "outputs": [
    {
     "name": "stdout",
     "output_type": "stream",
     "text": [
      "Total samples are: 11500\n",
      "The number of trial for the non seizure class is: 9200\n",
      "The number of trial for the seizure class is: 2300\n"
     ]
    },
    {
     "data": {
      "image/png": "[encoded data removed]",
      "text/plain": [
       "<Figure size 432x288 with 1 Axes>"
      ]
     },
     "metadata": {
      "needs_background": "light"
     },
     "output_type": "display_data"
    }
   ],
   "source": [
    "sn.countplot(x=y,data=data)\n",
    "plt.xlabel('Y')\n",
    "print('Total samples are:',Samples)\n",
    "print('The number of trial for the non seizure class is:',Seizure[0])\n",
    "print('The number of trial for the seizure class is:',Seizure[1])"
   ]
  },
  {
   "cell_type": "markdown",
   "id": "343c70ea",
   "metadata": {},
   "source": [
    "# Train test split of the dataset"
   ]
  },
  {
   "cell_type": "code",
   "execution_count": 40,
   "id": "b96e16c3",
   "metadata": {},
   "outputs": [
    {
     "name": "stdout",
     "output_type": "stream",
     "text": [
      "X Train Sample: [[ -46  -47  -31   -6  -13  -41  -76  -95  -90  -83  -80  -75  -77  -52\n",
      "   -54  -48  -48  -39  -54  -55  -72  -39  -42  -28  -25  -33  -31  -41\n",
      "   -44  -52  -31  -22  -14    2   14   44   42   46   49   59   59   56\n",
      "    42   41   29   -1  -40  -68  -72  -39  -23   17   33   36   10   -6\n",
      "   -30  -37  -39  -43  -74 -107 -136 -160 -134  -93  -54  -76 -111 -118\n",
      "  -116  -95  -97 -104 -101  -75  -27   -1   25   38   20   -1   -5   40\n",
      "    81   85   58   40   33   79   92  125  117  105   75   64   61   65\n",
      "    52   61   69   69   67  125  144  157  131   91   90   82   99   82\n",
      "    81   69   25  -18  -46  -13   39  107  151  158  134   36    6   -5\n",
      "    39   84   70    3  -64  -74  -48  -28   -3   24   60   93   91   52\n",
      "   -34  -94 -153 -181 -165 -121  -49   15   43   31  -10  -45  -59  -63\n",
      "   -54  -59  -31   -6   40   64   88  102  136  117   76    4  -48  -82\n",
      "   -93  -97 -105  -92  -61  -11   54   64   69   57]]\n",
      "X Test Sample: [[-110 -189 -285 -332 -311 -262 -197 -155 -135  -28   46  165  238  319\n",
      "   362  358  318  249  194  139   81   32   -6   -6  -18  -50  -79 -109\n",
      "  -115  -90  -53  -41  -66 -124 -223 -306 -351 -270 -162  -12  133  260\n",
      "   354  358  303  218  149   98   58   15  -13  -21  -12    0   30   35\n",
      "    44    9    7  -27  -52  -66  -52  -29  -34  -54 -110 -177 -269 -308\n",
      "  -305 -268 -215 -132  -34   96  166  210  224  217  220  188  154  130\n",
      "   101   88   60   25  -37  -94 -154 -203 -217 -209 -166 -115  -51   -3\n",
      "     1  -58 -137 -226 -277 -288 -258 -154   16  178  304  377  391  414\n",
      "   395  350  302  257  208  179  128   81   29   16  -14  -43  -91 -142\n",
      "  -192 -213 -180 -148  -95  -92 -121 -183 -241 -237 -234 -251 -200 -124\n",
      "    58  231  322  364  343  326  270  255  204  154   98   59    6  -22\n",
      "   -50  -75  -93 -108 -114 -105 -100  -75  -60  -62 -110 -178 -252 -268\n",
      "  -223 -170 -181 -205 -159  -13  142  235  277  279]]\n",
      "Y Train Sample: [1 0 0 1 1 1 0 1 0 1 0 0 1 0 0 0 0 0 0 1]\n",
      "Y Test Sample: [1 1 0 0 1 1 1 0 0 0 0 0 0 1 1 0 0 0 0 0]\n"
     ]
    }
   ],
   "source": [
    "\n",
    "from sklearn.model_selection import train_test_split\n",
    "x_train, x_test, y_train, y_test = train_test_split(x, y, test_size=0.30, random_state=15)\n",
    "print('X Train Sample:', x_train[:1])\n",
    "print('X Test Sample:', x_test_smote[:1])\n",
    "print('Y Train Sample:', y_train_smote[:20])\n",
    "print('Y Test Sample:', y_test_smote[:20])"
   ]
  },
  {
   "cell_type": "code",
   "execution_count": null,
   "id": "d6f75da8",
   "metadata": {},
   "outputs": [],
   "source": []
  },
  {
   "cell_type": "code",
   "execution_count": null,
   "id": "143765c6",
   "metadata": {},
   "outputs": [],
   "source": [
    "print('X Train Sample:', y_train)"
   ]
  },
  {
   "cell_type": "code",
   "execution_count": null,
   "id": "e533041b",
   "metadata": {},
   "outputs": [],
   "source": [
    "\n"
   ]
  },
  {
   "cell_type": "code",
   "execution_count": 12,
   "id": "a46bc0aa",
   "metadata": {},
   "outputs": [
    {
     "name": "stdout",
     "output_type": "stream",
     "text": [
      "The number of trial for the non seizure class is: (9200,)\n",
      "The number of trial for the seizure class is: (9200,)\n"
     ]
    }
   ],
   "source": [
    "from imblearn.over_sampling import SMOTE\n",
    "\n",
    "smote = SMOTE(sampling_strategy='minority')\n",
    "x_sm, y_sm = smote.fit_resample(x, y)\n",
    "a=y_sm[y_sm==0]\n",
    "a.shape\n",
    "b=y_sm[y_sm==1]\n",
    "print('The number of trial for the non seizure class is:',b.shape)\n",
    "print('The number of trial for the seizure class is:',a.shape)\n"
   ]
  },
  {
   "cell_type": "code",
   "execution_count": 13,
   "id": "7679a645",
   "metadata": {},
   "outputs": [],
   "source": [
    "from sklearn.model_selection import train_test_split\n",
    "x_train_smote,x_test_smote,y_train_smote,y_test_smote=train_test_split(x_sm,y_sm, test_size=0.2, random_state=15, stratify=y_sm)"
   ]
  },
  {
   "cell_type": "code",
   "execution_count": 39,
   "id": "036385ae",
   "metadata": {},
   "outputs": [
    {
     "name": "stdout",
     "output_type": "stream",
     "text": [
      "X Train Sample: [[ -31  -18   -6   13   39   92  124  121   62  -38 -115 -165 -183 -190\n",
      "  -188 -170 -132  -87  -41   -1   35   59   69   53   26   -6  -27  -40\n",
      "   -42  -36  -30  -35  -32  -31  -15   -8    5   13   32   45   94  244\n",
      "   450  695  710  329 -146 -501 -522 -326 -175  -74  -41  -57 -131 -289\n",
      "  -472 -573 -529 -300  -13  223  357  405  415  414  394  332  235  113\n",
      "    10  -78 -113 -126 -117 -117 -109  -90  -61  -34  -36  -41  -66  -83\n",
      "   -96  -88  -66  -29    0   18   37   43   60   65   77   66   49   22\n",
      "     0   -1   -3  -12  -25  -34  -47  -45  -44  -36  -28   -3   29   71\n",
      "   102  128  126  101   56    1  -19   90  292  555  562  175 -291 -590\n",
      "  -546 -299 -128  -35  -24 -148 -337 -501 -490 -353 -158  -12   42   69\n",
      "    87   84   72   57   50   56  108  137  154  154  114 -107 -414 -739\n",
      "  -901 -807 -507 -128  253  443  483  269 -148 -548 -757 -609 -263   28\n",
      "   167  231  212  178  130  106  104  105  125  131]]\n",
      "X Test Sample: [[-110 -189 -285 -332 -311 -262 -197 -155 -135  -28   46  165  238  319\n",
      "   362  358  318  249  194  139   81   32   -6   -6  -18  -50  -79 -109\n",
      "  -115  -90  -53  -41  -66 -124 -223 -306 -351 -270 -162  -12  133  260\n",
      "   354  358  303  218  149   98   58   15  -13  -21  -12    0   30   35\n",
      "    44    9    7  -27  -52  -66  -52  -29  -34  -54 -110 -177 -269 -308\n",
      "  -305 -268 -215 -132  -34   96  166  210  224  217  220  188  154  130\n",
      "   101   88   60   25  -37  -94 -154 -203 -217 -209 -166 -115  -51   -3\n",
      "     1  -58 -137 -226 -277 -288 -258 -154   16  178  304  377  391  414\n",
      "   395  350  302  257  208  179  128   81   29   16  -14  -43  -91 -142\n",
      "  -192 -213 -180 -148  -95  -92 -121 -183 -241 -237 -234 -251 -200 -124\n",
      "    58  231  322  364  343  326  270  255  204  154   98   59    6  -22\n",
      "   -50  -75  -93 -108 -114 -105 -100  -75  -60  -62 -110 -178 -252 -268\n",
      "  -223 -170 -181 -205 -159  -13  142  235  277  279]]\n",
      "Y Train Sample: [1 0 0 1 1 1 0 1 0 1 0 0 1 0 0 0 0 0 0 1]\n",
      "Y Test Sample: [1 1 0 0 1 1 1 0 0 0 0 0 0 1 1 0 0 0 0 0]\n"
     ]
    },
    {
     "data": {
      "text/plain": [
       "(14720,)"
      ]
     },
     "execution_count": 39,
     "metadata": {},
     "output_type": "execute_result"
    }
   ],
   "source": [
    "from sklearn.model_selection import train_test_split\n",
    "x_train_smote,x_test_smote,y_train_smote,y_test_smote=train_test_split(x_sm,y_sm,test_size=0.2,random_state=15, stratify=y_sm)\n",
    "print('X Train Sample:', x_train_smote[:1])\n",
    "print('X Test Sample:', x_test_smote[:1])\n",
    "print('Y Train Sample:', y_train_smote[:20])\n",
    "print('Y Test Sample:', y_test_smote[:20])\n",
    "x_train_smote.shape\n",
    "y_train_smote.shape"
   ]
  },
  {
   "cell_type": "code",
   "execution_count": 15,
   "id": "ab9b61a3",
   "metadata": {},
   "outputs": [
    {
     "name": "stdout",
     "output_type": "stream",
     "text": [
      "x_train Standardisation: [[-0.0679149  -0.00799507  0.04480927  0.12831368  0.24366971  0.48915373\n",
      "   0.63864084  0.62109375  0.32707895 -0.17271931 -0.56059238 -0.80421656\n",
      "  -0.86361266 -0.86825581 -0.84575081 -0.76915276 -0.6056711  -0.39681827\n",
      "  -0.176133    0.01704017  0.19047836  0.30634454  0.3566669   0.28201423\n",
      "   0.14733712 -0.01680896 -0.11931416 -0.17766437 -0.18084228 -0.14901307\n",
      "  -0.11684703 -0.1437462  -0.1350985  -0.13815398 -0.06247336 -0.02020267\n",
      "   0.05439117  0.10112298  0.19539336  0.25396333  0.48381503  1.22313008\n",
      "   2.25144628  3.43086418  3.44324961  1.57366308 -0.6622462  -2.32257806\n",
      "  -2.46770622 -1.55343265 -0.82248026 -0.31627098 -0.15362658 -0.23562235\n",
      "  -0.59665662 -1.39372362 -2.3549875  -2.86581805 -2.55298288 -1.36101337\n",
      "   0.01386677  1.13769804  1.82874092  2.0748852   2.0976297   2.04524252\n",
      "   1.93971309  1.64800179  1.17290904  0.56908715  0.06617948 -0.36203582\n",
      "  -0.53260885 -0.59602861 -0.54342687 -0.5310493  -0.48831547 -0.40185294\n",
      "  -0.26396746 -0.1268148  -0.12522424 -0.13905711 -0.25538584 -0.34715629\n",
      "  -0.41813613 -0.3756326  -0.26678305 -0.09482677  0.04081025  0.12544177\n",
      "   0.20874169  0.22621347  0.30513894  0.32754298  0.38100306  0.32162448\n",
      "   0.24013905  0.12176187  0.0268726   0.02689771  0.01565901 -0.0320945\n",
      "  -0.0963426  -0.13870598 -0.19436917 -0.17544684 -0.16560359 -0.12377516\n",
      "  -0.07979752  0.04113643  0.1901003   0.39420651  0.55493739  0.68076439\n",
      "   0.66438669  0.55165552  0.33934415  0.05372242 -0.05807487  0.50649674\n",
      "   1.57105791  2.86789179  2.79035856  0.89367696 -1.31355897 -2.79739213\n",
      "  -2.61230687 -1.41890045 -0.60007538 -0.14313218 -0.0861582  -0.70807377\n",
      "  -1.64314333 -2.45812666 -2.38013124 -1.6902863  -0.73625817 -0.03323513\n",
      "   0.22647457  0.362189    0.45562978  0.45134703  0.39926783  0.3313264\n",
      "   0.29583605  0.31995038  0.56588919  0.70396197  0.77871207  0.77107244\n",
      "   0.57637164 -0.4971482  -2.00679306 -3.56975917 -4.30362413 -3.85612192\n",
      "  -2.40150589 -0.59147611  1.1789614   2.06472404  2.28739569  1.32143184\n",
      "  -0.67452005 -2.59855358 -3.5977263  -2.88500633 -1.20158806  0.18702385\n",
      "   0.86592851  1.19651075  1.10761278  0.93532635  0.70787382  0.59634251\n",
      "   0.59582722  0.60305647  0.6988167   0.71574683]]\n",
      "x_test Standardisation: [[-4.51255008e-01 -8.28568226e-01 -1.30730131e+00 -1.56682479e+00\n",
      "  -1.48506254e+00 -1.25805428e+00 -9.50536038e-01 -7.43595751e-01\n",
      "  -6.46214719e-01 -1.22924990e-01  2.40736430e-01  8.30175180e-01\n",
      "   1.16596201e+00  1.51927257e+00  1.70302842e+00  1.70228108e+00\n",
      "   1.55042782e+00  1.24030411e+00  9.72676722e-01  7.05529166e-01\n",
      "   4.14601311e-01  1.76429441e-01 -1.60932228e-03 -1.13392281e-03\n",
      "  -6.57844304e-02 -2.30456327e-01 -3.68228267e-01 -5.03168089e-01\n",
      "  -5.26632623e-01 -4.07601585e-01 -2.27328695e-01 -1.72475853e-01\n",
      "  -2.97686321e-01 -5.88252340e-01 -1.08410705e+00 -1.47851577e+00\n",
      "  -1.63846063e+00 -1.21764508e+00 -7.16332721e-01 -1.75096584e-02\n",
      "   6.73412631e-01  1.30271132e+00  1.76999174e+00  1.76193520e+00\n",
      "   1.46625421e+00  1.04515561e+00  7.19441266e-01  4.95720283e-01\n",
      "   3.21882964e-01  1.25819458e-01 -1.11775940e-02 -5.18608634e-02\n",
      "  -1.20518292e-02  3.80144626e-02  1.75259127e-01  1.98880882e-01\n",
      "   2.52305525e-01  8.72450800e-02  9.14003985e-02 -5.84912356e-02\n",
      "  -1.69254188e-01 -2.42303072e-01 -1.96118205e-01 -9.87454385e-02\n",
      "  -1.36764559e-01 -2.43362257e-01 -5.22787466e-01 -8.59602786e-01\n",
      "  -1.31258899e+00 -1.49512686e+00 -1.46987663e+00 -1.28869061e+00\n",
      "  -1.03466921e+00 -6.25939322e-01 -1.29953067e-01  5.12404406e-01\n",
      "   8.45484589e-01  1.06021303e+00  1.13514343e+00  1.09888336e+00\n",
      "   1.10529003e+00  9.47539720e-01  8.01237778e-01  7.06888055e-01\n",
      "   5.70541332e-01  4.93825972e-01  3.40421392e-01  1.65221962e-01\n",
      "  -1.39594081e-01 -4.23037022e-01 -7.15158059e-01 -9.59025780e-01\n",
      "  -1.05826260e+00 -1.04112357e+00 -8.14575385e-01 -5.45990691e-01\n",
      "  -2.27795991e-01  5.02537916e-03  3.15664462e-02 -2.38695515e-01\n",
      "  -6.06099262e-01 -1.03094087e+00 -1.28269999e+00 -1.36054582e+00\n",
      "  -1.21394014e+00 -7.02446255e-01  1.26041323e-01  9.13848612e-01\n",
      "   1.51106808e+00  1.82460056e+00  1.88766528e+00  2.03935446e+00\n",
      "   1.99324141e+00  1.76217861e+00  1.51039189e+00  1.31202441e+00\n",
      "   1.10839715e+00  9.74591843e-01  7.06113868e-01  4.59303621e-01\n",
      "   1.89657144e-01  1.27659220e-01 -9.20528576e-03 -1.36233978e-01\n",
      "  -3.63872732e-01 -6.26075104e-01 -8.84338131e-01 -9.97659677e-01\n",
      "  -8.59336315e-01 -7.21291788e-01 -4.51429818e-01 -4.24629286e-01\n",
      "  -5.61854934e-01 -8.74758834e-01 -1.15762481e+00 -1.12857440e+00\n",
      "  -1.09828481e+00 -1.15463469e+00 -9.03517579e-01 -5.45058260e-01\n",
      "   3.18113845e-01  1.15403748e+00  1.59385536e+00  1.79703091e+00\n",
      "   1.69555174e+00  1.61455597e+00  1.34786615e+00  1.27731736e+00\n",
      "   1.02055556e+00  7.71072435e-01  4.99192382e-01  3.12231534e-01\n",
      "   5.57065726e-02 -8.05327155e-02 -2.16704252e-01 -3.42296522e-01\n",
      "  -4.30648646e-01 -4.97818751e-01 -5.17678673e-01 -4.76869158e-01\n",
      "  -4.53183124e-01 -3.31874565e-01 -2.49042886e-01 -2.49259179e-01\n",
      "  -4.76654694e-01 -8.04559455e-01 -1.14905665e+00 -1.22613994e+00\n",
      "  -1.02819391e+00 -7.78417675e-01 -8.17710070e-01 -9.04176799e-01\n",
      "  -6.67415091e-01  2.81445602e-02  7.81032816e-01  1.24577932e+00\n",
      "   1.45296966e+00  1.44195057e+00]]\n"
     ]
    },
    {
     "data": {
      "text/plain": [
       "(8050, 178)"
      ]
     },
     "execution_count": 15,
     "metadata": {},
     "output_type": "execute_result"
    }
   ],
   "source": [
    "from sklearn.preprocessing import StandardScaler\n",
    "sc = StandardScaler()\n",
    "x_train_stn=sc.fit_transform(x_train_smote)\n",
    "x_test_stn=sc.transform(x_test_smote)\n",
    "print('x_train Standardisation:',x_train_stn[:1])\n",
    "print('x_test Standardisation:',x_test_stn[:1])\n",
    "x_train.shape"
   ]
  },
  {
   "cell_type": "code",
   "execution_count": 16,
   "id": "d5e4658b",
   "metadata": {},
   "outputs": [],
   "source": [
    "grid_param = {\n",
    "    'criterion': ['gini', 'entropy'],\n",
    "    'max_depth' : [2,10,20,30,60,100],\n",
    "    'min_samples_leaf' : [5,15,25,5,70],\n",
    "    'min_samples_split': [30,2,15,60],\n",
    "    'splitter' : ['best', 'random']\n",
    "}"
   ]
  },
  {
   "cell_type": "code",
   "execution_count": 17,
   "id": "540d1662",
   "metadata": {},
   "outputs": [],
   "source": [
    "from sklearn.tree import DecisionTreeClassifier\n",
    "DecisionTree=DecisionTreeClassifier()"
   ]
  },
  {
   "cell_type": "code",
   "execution_count": 19,
   "id": "d68d459a",
   "metadata": {},
   "outputs": [
    {
     "name": "stdout",
     "output_type": "stream",
     "text": [
      "              precision    recall  f1-score   support\n",
      "\n",
      "           0       0.93      0.92      0.93      1840\n",
      "           1       0.92      0.93      0.93      1840\n",
      "\n",
      "    accuracy                           0.93      3680\n",
      "   macro avg       0.93      0.93      0.93      3680\n",
      "weighted avg       0.93      0.93      0.93      3680\n",
      "\n"
     ]
    }
   ],
   "source": [
    "DecisionTree = DecisionTreeClassifier(criterion = 'entropy', max_depth =100, min_samples_leaf= 5, \n",
    "                                      min_samples_split= 2, splitter ='best')\n",
    "DecisionTree.fit(x_train_stn,y_train_smote)\n",
    "tree_pred=DecisionTree.predict(x_test_stn)\n",
    "from sklearn.metrics import classification_report\n",
    "print(classification_report(y_test_smote, tree_pred))"
   ]
  },
  {
   "cell_type": "code",
   "execution_count": 20,
   "id": "237dcb55",
   "metadata": {},
   "outputs": [
    {
     "name": "stdout",
     "output_type": "stream",
     "text": [
      "              precision    recall  f1-score   support\n",
      "\n",
      "           0       0.98      1.00      0.99      1840\n",
      "           1       1.00      0.98      0.99      1840\n",
      "\n",
      "    accuracy                           0.99      3680\n",
      "   macro avg       0.99      0.99      0.99      3680\n",
      "weighted avg       0.99      0.99      0.99      3680\n",
      "\n"
     ]
    }
   ],
   "source": [
    "#K_Nearest_Neighbour\n",
    "from sklearn.neighbors import KNeighborsClassifier\n",
    "knn=KNeighborsClassifier(n_neighbors=5)\n",
    "knn.fit(x_train_smote,y_train_smote)\n",
    "knn_pred=knn.predict(x_test_smote)\n",
    "from sklearn.metrics import classification_report\n",
    "print(classification_report(y_test_smote, knn_pred))\n"
   ]
  },
  {
   "cell_type": "code",
   "execution_count": 21,
   "id": "ed1642a2",
   "metadata": {},
   "outputs": [
    {
     "name": "stdout",
     "output_type": "stream",
     "text": [
      "              precision    recall  f1-score   support\n",
      "\n",
      "           0       0.61      0.77      0.68      1840\n",
      "           1       0.69      0.52      0.59      1840\n",
      "\n",
      "    accuracy                           0.64      3680\n",
      "   macro avg       0.65      0.64      0.64      3680\n",
      "weighted avg       0.65      0.64      0.64      3680\n",
      "\n"
     ]
    },
    {
     "name": "stderr",
     "output_type": "stream",
     "text": [
      "D:\\jupyter anaconda\\lib\\site-packages\\sklearn\\linear_model\\_logistic.py:444: ConvergenceWarning: lbfgs failed to converge (status=1):\n",
      "STOP: TOTAL NO. of ITERATIONS REACHED LIMIT.\n",
      "\n",
      "Increase the number of iterations (max_iter) or scale the data as shown in:\n",
      "    https://scikit-learn.org/stable/modules/preprocessing.html\n",
      "Please also refer to the documentation for alternative solver options:\n",
      "    https://scikit-learn.org/stable/modules/linear_model.html#logistic-regression\n",
      "  n_iter_i = _check_optimize_result(\n"
     ]
    }
   ],
   "source": [
    "#logistic regression\n",
    "from sklearn.linear_model  import LogisticRegression\n",
    "log_reg = LogisticRegression()\n",
    "\n",
    "log_reg.fit(x_train_stn,y_train_smote)\n",
    "log_reg_pred=log_reg.predict(x_test_stn)\n",
    "from sklearn.metrics import classification_report\n",
    "print(classification_report(y_test_smote, log_reg_pred))\n"
   ]
  },
  {
   "cell_type": "code",
   "execution_count": null,
   "id": "d4173bc6",
   "metadata": {},
   "outputs": [],
   "source": []
  },
  {
   "cell_type": "code",
   "execution_count": 22,
   "id": "3c346c39",
   "metadata": {},
   "outputs": [
    {
     "name": "stdout",
     "output_type": "stream",
     "text": [
      "              precision    recall  f1-score   support\n",
      "\n",
      "           0       0.97      0.98      0.97      1840\n",
      "           1       0.98      0.97      0.97      1840\n",
      "\n",
      "    accuracy                           0.97      3680\n",
      "   macro avg       0.97      0.97      0.97      3680\n",
      "weighted avg       0.97      0.97      0.97      3680\n",
      "\n"
     ]
    }
   ],
   "source": [
    "from sklearn.svm import SVC\n",
    "svm=SVC()\n",
    "svm.fit(x_train_smote,y_train_smote)\n",
    "svm_pred=svm.predict(x_test_smote)\n",
    "from sklearn.metrics import classification_report\n",
    "print(classification_report(y_test_smote, svm_pred))"
   ]
  },
  {
   "cell_type": "code",
   "execution_count": 23,
   "id": "9b9de896",
   "metadata": {},
   "outputs": [
    {
     "name": "stdout",
     "output_type": "stream",
     "text": [
      "              precision    recall  f1-score   support\n",
      "\n",
      "           0       0.99      0.97      0.98      1840\n",
      "           1       0.97      0.99      0.98      1840\n",
      "\n",
      "    accuracy                           0.98      3680\n",
      "   macro avg       0.98      0.98      0.98      3680\n",
      "weighted avg       0.98      0.98      0.98      3680\n",
      "\n"
     ]
    }
   ],
   "source": [
    "from sklearn.ensemble import RandomForestClassifier\n",
    "rfc=RandomForestClassifier()\n",
    "rfc.fit(x_train_smote,y_train_smote)\n",
    "rfc_pred=rfc.predict(x_test_smote)\n",
    "from sklearn.metrics import classification_report\n",
    "print(classification_report(y_test_smote, rfc_pred))"
   ]
  },
  {
   "cell_type": "code",
   "execution_count": 24,
   "id": "4bbc1575",
   "metadata": {},
   "outputs": [
    {
     "name": "stdout",
     "output_type": "stream",
     "text": [
      "              precision    recall  f1-score   support\n",
      "\n",
      "           0       0.97      0.98      0.98      2787\n",
      "           1       0.90      0.88      0.89       663\n",
      "\n",
      "    accuracy                           0.96      3450\n",
      "   macro avg       0.94      0.93      0.93      3450\n",
      "weighted avg       0.96      0.96      0.96      3450\n",
      "\n"
     ]
    }
   ],
   "source": [
    "from sklearn.naive_bayes import GaussianNB\n",
    "GN = GaussianNB()\n",
    "GN.fit(x_train, y_train)\n",
    "GN_preds=GN.predict(x_test)\n",
    "from sklearn.metrics import classification_report\n",
    "print(classification_report(y_test, GN_preds))"
   ]
  },
  {
   "cell_type": "code",
   "execution_count": 25,
   "id": "083b1e10",
   "metadata": {},
   "outputs": [
    {
     "name": "stdout",
     "output_type": "stream",
     "text": [
      "              precision    recall  f1-score   support\n",
      "\n",
      "           0       0.95      0.98      0.97      2787\n",
      "           1       0.92      0.76      0.84       663\n",
      "\n",
      "    accuracy                           0.94      3450\n",
      "   macro avg       0.93      0.87      0.90      3450\n",
      "weighted avg       0.94      0.94      0.94      3450\n",
      "\n"
     ]
    }
   ],
   "source": [
    "from sklearn.neural_network import MLPClassifier\n",
    "nns=MLPClassifier(solver='lbfgs',alpha=1e-5,hidden_layer_sizes=(5,2),random_state=1)\n",
    "nns.fit(x_train,y_train)\n",
    "nns_pred=nns.predict(x_test)\n",
    "from sklearn.metrics import classification_report\n",
    "print(classification_report(y_test, nns_pred))"
   ]
  },
  {
   "cell_type": "code",
   "execution_count": null,
   "id": "94a515fd",
   "metadata": {},
   "outputs": [],
   "source": []
  },
  {
   "cell_type": "code",
   "execution_count": 28,
   "id": "d764b855",
   "metadata": {},
   "outputs": [
    {
     "name": "stdout",
     "output_type": "stream",
     "text": [
      "              precision    recall  f1-score   support\n",
      "\n",
      "           0       0.61      0.77      0.68      1840\n",
      "           1       0.69      0.52      0.59      1840\n",
      "\n",
      "    accuracy                           0.64      3680\n",
      "   macro avg       0.65      0.64      0.64      3680\n",
      "weighted avg       0.65      0.64      0.64      3680\n",
      "\n"
     ]
    }
   ],
   "source": [
    "from sklearn.linear_model import RidgeClassifier\n",
    "RC=RidgeClassifier()\n",
    "RC.fit(x_train_stn,y_train_smote)\n",
    "RC_pred=RC.predict(x_test_stn)\n",
    "from sklearn.metrics import classification_report\n",
    "print(classification_report(y_test_smote, RC_pred))"
   ]
  },
  {
   "cell_type": "code",
   "execution_count": 29,
   "id": "e559328e",
   "metadata": {},
   "outputs": [
    {
     "name": "stdout",
     "output_type": "stream",
     "text": [
      "              precision    recall  f1-score   support\n",
      "\n",
      "           0       0.91      0.94      0.92      1840\n",
      "           1       0.94      0.90      0.92      1840\n",
      "\n",
      "    accuracy                           0.92      3680\n",
      "   macro avg       0.92      0.92      0.92      3680\n",
      "weighted avg       0.92      0.92      0.92      3680\n",
      "\n"
     ]
    }
   ],
   "source": [
    "from sklearn.ensemble import AdaBoostClassifier\n",
    "ABC=AdaBoostClassifier(n_estimators=200)\n",
    "ABC.fit(x_train_stn,y_train_smote)\n",
    "ABC_pred=ABC.predict(x_test_stn)\n",
    "from sklearn.metrics import classification_report\n",
    "print(classification_report(y_test_smote, ABC_pred))"
   ]
  },
  {
   "cell_type": "code",
   "execution_count": null,
   "id": "c4eb8ba8",
   "metadata": {},
   "outputs": [],
   "source": []
  },
  {
   "cell_type": "code",
   "execution_count": null,
   "id": "73cd1e0c",
   "metadata": {},
   "outputs": [],
   "source": []
  },
  {
   "cell_type": "code",
   "execution_count": 30,
   "id": "a0b0ffb4",
   "metadata": {},
   "outputs": [
    {
     "name": "stdout",
     "output_type": "stream",
     "text": [
      "The Recall Score of Random Forest Classifier:0.9880434782608696\n",
      "The Recall Score of Decision Tree Classifier:0.9293478260869565\n",
      "The Recall Score of K-Nearest Neighbors Classifier:0.9820652173913044\n",
      "The Recall Score of Logistic Regression Classifier:0.5163043478260869\n",
      "The Recall Score of Support Vector Machine  Classifier:0.9668478260869565\n",
      "The Recall Score of Naive Bayes Classifier:0.8838612368024132\n",
      "The Recall Score of MLPClassifier:0.7647058823529411\n",
      "The Recall Score of Ridge Classifier:0.5168478260869566\n",
      "The Recall Score of AdaBoost Classifier:0.9027173913043478\n"
     ]
    }
   ],
   "source": [
    "from sklearn.metrics import recall_score\n",
    "rfc_recall=recall_score(y_test_smote,rfc_pred)\n",
    "print(\"The Recall Score of Random Forest Classifier:{}\".format(rfc_recall))\n",
    "tree_recall=recall_score(y_test_smote,tree_pred)\n",
    "print(\"The Recall Score of Decision Tree Classifier:{}\".format(tree_recall))\n",
    "knn_recall=recall_score(y_test_smote,knn_pred)\n",
    "print(\"The Recall Score of K-Nearest Neighbors Classifier:{}\".format(knn_recall))\n",
    "log_reg_recall=recall_score(y_test_smote,log_reg_pred)\n",
    "print(\"The Recall Score of Logistic Regression Classifier:{}\".format(log_reg_recall))\n",
    "svm_recall=recall_score(y_test_smote,svm_pred)\n",
    "print(\"The Recall Score of Support Vector Machine  Classifier:{}\".format(svm_recall))\n",
    "GN_recall=recall_score(y_test,GN_preds)\n",
    "print(\"The Recall Score of Naive Bayes Classifier:{}\".format(GN_recall))\n",
    "MLP_recall=recall_score(y_test,nns_pred)\n",
    "print(\"The Recall Score of MLPClassifier:{}\".format(MLP_recall))\n",
    "RC_recall=recall_score(y_test_smote,RC_pred)\n",
    "print(\"The Recall Score of Ridge Classifier:{}\".format(RC_recall))\n",
    "ABC_recall=recall_score(y_test_smote,ABC_pred)\n",
    "print(\"The Recall Score of AdaBoost Classifier:{}\".format(ABC_recall))"
   ]
  },
  {
   "cell_type": "code",
   "execution_count": 31,
   "id": "9b3bc61f",
   "metadata": {},
   "outputs": [
    {
     "name": "stdout",
     "output_type": "stream",
     "text": [
      "The Precision Score of Random Forest Classifier:0.9685668620138519\n",
      "The Precision Score of Decision Tree Classifier:0.9233261339092873\n",
      "The Precision Score of K-Nearest Neighbors Classifier:0.996141124586549\n",
      "The Precision Score of Logistic Regression Classifier:0.6909090909090909\n",
      "The Precision Score of Support Vector Machine  Classifier:0.9769357495881383\n",
      "The Precision Score of Naive Bayes Classifier:0.904320987654321\n",
      "The Precision Score of MLPClassifier:0.9234972677595629\n",
      "The Precision Score of Ridge Classifier:0.6936542669584245\n",
      "The Precision Score of AdaBoost Classifier:0.9357746478873239\n"
     ]
    }
   ],
   "source": [
    "from sklearn.metrics import precision_score\n",
    "rfc_recall=precision_score(y_test_smote,rfc_pred)\n",
    "print(\"The Precision Score of Random Forest Classifier:{}\".format(rfc_recall))\n",
    "tree_recall=precision_score(y_test_smote,tree_pred)\n",
    "print(\"The Precision Score of Decision Tree Classifier:{}\".format(tree_recall))\n",
    "knn_recall=precision_score(y_test_smote,knn_pred)\n",
    "print(\"The Precision Score of K-Nearest Neighbors Classifier:{}\".format(knn_recall))\n",
    "log_reg_recall=precision_score(y_test_smote,log_reg_pred)\n",
    "print(\"The Precision Score of Logistic Regression Classifier:{}\".format(log_reg_recall))\n",
    "svm_recall=precision_score(y_test_smote,svm_pred)\n",
    "print(\"The Precision Score of Support Vector Machine  Classifier:{}\".format(svm_recall))\n",
    "GN_recall=precision_score(y_test,GN_preds)\n",
    "print(\"The Precision Score of Naive Bayes Classifier:{}\".format(GN_recall))\n",
    "MLP_recall=precision_score(y_test,nns_pred)\n",
    "print(\"The Precision Score of MLPClassifier:{}\".format(MLP_recall))\n",
    "RC_recall=precision_score(y_test_smote,RC_pred)\n",
    "print(\"The Precision Score of Ridge Classifier:{}\".format(RC_recall))\n",
    "ABC_recall=precision_score(y_test_smote,ABC_pred)\n",
    "print(\"The Precision Score of AdaBoost Classifier:{}\".format(ABC_recall))"
   ]
  },
  {
   "cell_type": "code",
   "execution_count": 32,
   "id": "0ffa1822",
   "metadata": {},
   "outputs": [
    {
     "name": "stdout",
     "output_type": "stream",
     "text": [
      "The Accuracy Score of Random Forest Classifier:0.9779891304347826\n",
      "The Accuracy Score of Decision Tree Classifier:0.9260869565217391\n",
      "The Accuracy Score of K-Nearest Neighbors Classifier:0.9891304347826086\n",
      "The Accuracy Score of Logistic Regression Classifier:0.6426630434782609\n",
      "The Accuracy Score of Support Vector Machine  Classifier:0.9720108695652174\n",
      "The Accuracy Score of Naive Bayes Classifier:0.9597101449275363\n",
      "The Accuracy Score of MLPClassifier:0.9426086956521739\n",
      "The Accuracy Score of Ridge Classifier:0.6442934782608696\n",
      "The Accuracy Score of AdaBoost Classifier:0.9203804347826087\n"
     ]
    }
   ],
   "source": [
    "from sklearn.metrics import accuracy_score\n",
    "rfc_recall=accuracy_score(y_test_smote,rfc_pred)\n",
    "print(\"The Accuracy Score of Random Forest Classifier:{}\".format(rfc_recall))\n",
    "tree_recall=accuracy_score(y_test_smote,tree_pred)\n",
    "print(\"The Accuracy Score of Decision Tree Classifier:{}\".format(tree_recall))\n",
    "knn_recall=accuracy_score(y_test_smote,knn_pred)\n",
    "print(\"The Accuracy Score of K-Nearest Neighbors Classifier:{}\".format(knn_recall))\n",
    "log_reg_recall=accuracy_score(y_test_smote,log_reg_pred)\n",
    "print(\"The Accuracy Score of Logistic Regression Classifier:{}\".format(log_reg_recall))\n",
    "svm_recall=accuracy_score(y_test_smote,svm_pred)\n",
    "print(\"The Accuracy Score of Support Vector Machine  Classifier:{}\".format(svm_recall))\n",
    "GN_recall=accuracy_score(y_test,GN_preds)\n",
    "print(\"The Accuracy Score of Naive Bayes Classifier:{}\".format(GN_recall))\n",
    "MLP_recall=accuracy_score(y_test,nns_pred)\n",
    "print(\"The Accuracy Score of MLPClassifier:{}\".format(MLP_recall))\n",
    "RC_recall=accuracy_score(y_test_smote,RC_pred)\n",
    "print(\"The Accuracy Score of Ridge Classifier:{}\".format(RC_recall))\n",
    "ABC_recall=accuracy_score(y_test_smote,ABC_pred)\n",
    "print(\"The Accuracy Score of AdaBoost Classifier:{}\".format(ABC_recall))"
   ]
  },
  {
   "cell_type": "code",
   "execution_count": 38,
   "id": "4023c3f2",
   "metadata": {},
   "outputs": [
    {
     "name": "stdout",
     "output_type": "stream",
     "text": [
      "The F1 score of Random Forest Classifier:0.9782082324455206\n",
      "The F1 score of Decision Tree Classifier:0.9263271939328278\n",
      "The F1 score of K-Nearest Neighbors Classifier:0.9890530925013684\n",
      "The F1 score of Logistic Regression Classifier:0.5909797822706065\n",
      "The F1 score of Support Vector Machine  Classifier:0.9718656104889374\n",
      "The F1 score of Naive Bayes Classifier:0.8939740655987796\n",
      "The F1 score of MLPClassifier:0.8366336633663366\n",
      "The F1 score of Ridge Classifier:0.5923388352538149\n",
      "The F1 score of AdaBoost Classifier:0.9189488243430152\n"
     ]
    }
   ],
   "source": [
    "from sklearn.metrics import f1_score\n",
    "rfc_recall=f1_score(y_test_smote,rfc_pred)\n",
    "print(\"The F1 score of Random Forest Classifier:{}\".format(rfc_recall))\n",
    "tree_recall=f1_score(y_test_smote,tree_pred)\n",
    "print(\"The F1 score of Decision Tree Classifier:{}\".format(tree_recall))\n",
    "knn_recall=f1_score(y_test_smote,knn_pred)\n",
    "print(\"The F1 score of K-Nearest Neighbors Classifier:{}\".format(knn_recall))\n",
    "log_reg_recall=f1_score(y_test_smote,log_reg_pred)\n",
    "print(\"The F1 score of Logistic Regression Classifier:{}\".format(log_reg_recall))\n",
    "svm_recall=f1_score(y_test_smote,svm_pred)\n",
    "print(\"The F1 score of Support Vector Machine  Classifier:{}\".format(svm_recall))\n",
    "GN_recall=f1_score(y_test,GN_preds)\n",
    "print(\"The F1 score of Naive Bayes Classifier:{}\".format(GN_recall))\n",
    "MLP_recall=f1_score(y_test,nns_pred)\n",
    "print(\"The F1 score of MLPClassifier:{}\".format(MLP_recall))\n",
    "RC_recall=f1_score(y_test_smote,RC_pred)\n",
    "print(\"The F1 score of Ridge Classifier:{}\".format(RC_recall))\n",
    "ABC_recall=f1_score(y_test_smote,ABC_pred)\n",
    "print(\"The F1 score of AdaBoost Classifier:{}\".format(ABC_recall))"
   ]
  },
  {
   "cell_type": "code",
   "execution_count": 37,
   "id": "e0e689cc",
   "metadata": {},
   "outputs": [
    {
     "name": "stdout",
     "output_type": "stream",
     "text": [
      "The Matthews Correlation Coefficient of Random Forest Classifier:0.9561715990182538\n",
      "The Matthews Correlation Coefficient of Decision Tree Classifier:0.8521920364127689\n",
      "The Matthews Correlation Coefficient of K-Nearest Neighbors Classifier:0.9783585484693825\n",
      "The Matthews Correlation Coefficient of Logistic Regression Classifier:0.2948984497108882\n",
      "The Matthews Correlation Coefficient of Support Vector Machine  Classifier:0.9440720727646107\n",
      "The Matthews Correlation Coefficient of Naive Bayes Classifier:0.869194518044006\n",
      "The Matthews Correlation Coefficient of MLPClassifier:0.807449922377478\n",
      "The Matthews Correlation Coefficient of Ridge Classifier:0.29844467007411285\n",
      "The Matthews Correlation Coefficient of AdaBoost Classifier:0.8412859674545244\n"
     ]
    }
   ],
   "source": [
    "from sklearn.metrics import matthews_corrcoef\n",
    "rfc_recall=matthews_corrcoef(y_test_smote,rfc_pred)\n",
    "print(\"The Matthews Correlation Coefficient of Random Forest Classifier:{}\".format(rfc_recall))\n",
    "tree_recall=matthews_corrcoef(y_test_smote,tree_pred)\n",
    "print(\"The Matthews Correlation Coefficient of Decision Tree Classifier:{}\".format(tree_recall))\n",
    "knn_recall=matthews_corrcoef(y_test_smote,knn_pred)\n",
    "print(\"The Matthews Correlation Coefficient of K-Nearest Neighbors Classifier:{}\".format(knn_recall))\n",
    "log_reg_recall=matthews_corrcoef(y_test_smote,log_reg_pred)\n",
    "print(\"The Matthews Correlation Coefficient of Logistic Regression Classifier:{}\".format(log_reg_recall))\n",
    "svm_recall=matthews_corrcoef(y_test_smote,svm_pred)\n",
    "print(\"The Matthews Correlation Coefficient of Support Vector Machine  Classifier:{}\".format(svm_recall))\n",
    "GN_recall=matthews_corrcoef(y_test,GN_preds)\n",
    "print(\"The Matthews Correlation Coefficient of Naive Bayes Classifier:{}\".format(GN_recall))\n",
    "MLP_recall=matthews_corrcoef(y_test,nns_pred)\n",
    "print(\"The Matthews Correlation Coefficient of MLPClassifier:{}\".format(MLP_recall))\n",
    "RC_recall=matthews_corrcoef(y_test_smote,RC_pred)\n",
    "print(\"The Matthews Correlation Coefficient of Ridge Classifier:{}\".format(RC_recall))\n",
    "ABC_recall=matthews_corrcoef(y_test_smote,ABC_pred)\n",
    "print(\"The Matthews Correlation Coefficient of AdaBoost Classifier:{}\".format(ABC_recall))"
   ]
  },
  {
   "cell_type": "code",
   "execution_count": 33,
   "id": "98e4e0cb",
   "metadata": {},
   "outputs": [],
   "source": [
    "from sklearn.metrics import confusion_matrix\n",
    "def conf_matrix(cm,labels=['Normal','Epilepsy Affected']):\n",
    "    data=pd.DataFrame(data=cm,index=labels,columns=labels)\n",
    "    data.index.name='TRUE'\n",
    "    data.columns.name='PREDICITION'\n",
    "    data.loc['Total']=data.sum()\n",
    "    data['total']=data.sum(axis=1)\n",
    "    return data\n",
    "\n"
   ]
  },
  {
   "cell_type": "code",
   "execution_count": 34,
   "id": "3fce4452",
   "metadata": {},
   "outputs": [
    {
     "data": {
      "text/html": [
       "<div>\n",
       "<style scoped>\n",
       "    .dataframe tbody tr th:only-of-type {\n",
       "        vertical-align: middle;\n",
       "    }\n",
       "\n",
       "    .dataframe tbody tr th {\n",
       "        vertical-align: top;\n",
       "    }\n",
       "\n",
       "    .dataframe thead th {\n",
       "        text-align: right;\n",
       "    }\n",
       "</style>\n",
       "<table border=\"1\" class=\"dataframe\">\n",
       "  <thead>\n",
       "    <tr style=\"text-align: right;\">\n",
       "      <th>PREDICITION</th>\n",
       "      <th>Normal</th>\n",
       "      <th>Epilepsy Affected</th>\n",
       "      <th>total</th>\n",
       "    </tr>\n",
       "    <tr>\n",
       "      <th>TRUE</th>\n",
       "      <th></th>\n",
       "      <th></th>\n",
       "      <th></th>\n",
       "    </tr>\n",
       "  </thead>\n",
       "  <tbody>\n",
       "    <tr>\n",
       "      <th>Normal</th>\n",
       "      <td>1726</td>\n",
       "      <td>114</td>\n",
       "      <td>1840</td>\n",
       "    </tr>\n",
       "    <tr>\n",
       "      <th>Epilepsy Affected</th>\n",
       "      <td>179</td>\n",
       "      <td>1661</td>\n",
       "      <td>1840</td>\n",
       "    </tr>\n",
       "    <tr>\n",
       "      <th>Total</th>\n",
       "      <td>1905</td>\n",
       "      <td>1775</td>\n",
       "      <td>3680</td>\n",
       "    </tr>\n",
       "  </tbody>\n",
       "</table>\n",
       "</div>"
      ],
      "text/plain": [
       "PREDICITION        Normal  Epilepsy Affected  total\n",
       "TRUE                                               \n",
       "Normal               1726                114   1840\n",
       "Epilepsy Affected     179               1661   1840\n",
       "Total                1905               1775   3680"
      ]
     },
     "execution_count": 34,
     "metadata": {},
     "output_type": "execute_result"
    }
   ],
   "source": [
    "ABC_cm=confusion_matrix(y_test_smote,ABC_pred)\n",
    "conf_matrix(ABC_cm)"
   ]
  },
  {
   "cell_type": "code",
   "execution_count": 35,
   "id": "01e42961",
   "metadata": {},
   "outputs": [
    {
     "data": {
      "text/plain": [
       "<function matplotlib.pyplot.show(close=None, block=None)>"
      ]
     },
     "execution_count": 35,
     "metadata": {},
     "output_type": "execute_result"
    },
    {
     "data": {
      "image/png": "[encoded data removed]",
      "text/plain": [
       "<Figure size 576x576 with 2 Axes>"
      ]
     },
     "metadata": {
      "needs_background": "light"
     },
     "output_type": "display_data"
    }
   ],
   "source": [
    "import seaborn as sns\n",
    "LABELS=['Normal','Epilepsy Affected']\n",
    "plt.figure(figsize=(8,8))\n",
    "sns.heatmap(ABC_cm,xticklabels=LABELS,yticklabels=LABELS,annot=True,fmt=\"d\")\n",
    "plt.title('Confusion Matrix of AdaBoost Classification model')\n",
    "plt.ylabel('True Class')\n",
    "plt.xlabel('predicted class')\n",
    "plt.show"
   ]
  },
  {
   "cell_type": "code",
   "execution_count": null,
   "id": "8257b636",
   "metadata": {},
   "outputs": [],
   "source": []
  },
  {
   "cell_type": "code",
   "execution_count": null,
   "id": "cabe3822",
   "metadata": {},
   "outputs": [],
   "source": []
  }
 ],
 "metadata": {
  "kernelspec": {
   "display_name": "Python 3 (ipykernel)",
   "language": "python",
   "name": "python3"
  },
  "language_info": {
   "codemirror_mode": {
    "name": "ipython",
    "version": 3
   },
   "file_extension": ".py",
   "mimetype": "text/x-python",
   "name": "python",
   "nbconvert_exporter": "python",
   "pygments_lexer": "ipython3",
   "version": "3.9.7"
  }
 },
 "nbformat": 4,
 "nbformat_minor": 5
}
